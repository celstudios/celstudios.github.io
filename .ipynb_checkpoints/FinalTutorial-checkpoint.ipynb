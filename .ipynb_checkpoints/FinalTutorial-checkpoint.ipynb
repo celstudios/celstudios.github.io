{
 "cells": [
  {
   "cell_type": "markdown",
   "id": "9932d7ff-37ee-4134-8128-06a472b56039",
   "metadata": {},
   "source": [
    "# Introduction"
   ]
  },
  {
   "cell_type": "markdown",
   "id": "e6a56999-f786-454c-a33a-93141d826f87",
   "metadata": {},
   "source": [
    "Cereal is a staple of many peoples' breakfast, and is generally considered to be a healthy choice for kids and adults alike. But is that really the case? Cereal may seem healthy, but it's also processed, at times with large amounts of sugar. This begs the question of if cereal really is a healthy option for breakfast, as well as which types of cereal are the most nutritious. Using data science, we can analyze a dataset of cereals and their nutrition data to see which of them are truly healthy.\n",
    "\n",
    "In this tutorial, we are going to clean and organize our data, before using it to figure out which cereals are the most and least nutritious, how nutritious cereal tends to be on average, which companies tend to have the best track record with cereal, and which factors have a positive and negative effect on how nutritious cereal is. Our ultimate goal will be to figure out what factors would lead to the most ideally nutritious cereal.\n",
    "\n",
    "You should start by importing all of the libraries you'll need for analyzing data:\n",
    "\n",
    "- [pandas](https://pandas.pydata.org/): Used for creating dataframes\n",
    "- [numpy](https://numpy.org/): Used for creating arrays, but we usually use it for dealing with missing data\n",
    "- [matplotlib](https://matplotlib.org/): Used for plotting graphs of our data\n",
    "- [seaborn](https://seaborn.pydata.org/): Similarly to matplotlib, seaborn is used for graphing"
   ]
  },
  {
   "cell_type": "code",
   "execution_count": 90,
   "id": "1120de56-4659-45ff-89bf-778dc0293a49",
   "metadata": {},
   "outputs": [],
   "source": [
    "import pandas as pd\n",
    "import numpy as np\n",
    "import matplotlib.pyplot as plt\n",
    "import seaborn as sns\n",
    "import warnings\n",
    "warnings.filterwarnings('ignore')"
   ]
  },
  {
   "cell_type": "markdown",
   "id": "63af21fe-1540-435d-9d02-1f962cf9cdb7",
   "metadata": {},
   "source": [
    "Next, you need to find a dataset. It's important that your dataset isn't too bad, since it could cause Jupyter to crash. Ideally, your dataset should have no more than 1,000,000 rows. Thankfully, I found a fairly small dataset outlining the nutritional data of a little under 80 cereals, so I won't need to modify it. The dataset can be found [here](https://www.kaggle.com/datasets/crawford/80-cereals)."
   ]
  },
  {
   "cell_type": "markdown",
   "id": "96c055b2-4e59-474c-8739-a9ad3fc85331",
   "metadata": {},
   "source": [
    "# Data Collection"
   ]
  },
  {
   "cell_type": "markdown",
   "id": "4a1caf99-b6df-4155-be07-21cec6d6affb",
   "metadata": {},
   "source": [
    "The first phase is going to be the Data Collection phase, which is simply about importing our data and converting it into a dataframe.\n",
    "\n",
    "Now that we imported the dataset onto our Jupyter notebook, we can easily convert it to a dataframe using <em>.read_csv()</em>. Once you do, you can display the first five rows of your dataset using <em>.head()</em>.\n",
    "\n",
    "- pd.read_csv(file): Reads a separated file and turns it into a dataframe.\n",
    "- dataframe.head(): Displays the first five rows of your dataset."
   ]
  },
  {
   "cell_type": "code",
   "execution_count": 2,
   "id": "7c3d7c43-2aef-4e67-a51c-96dd25a9f87f",
   "metadata": {},
   "outputs": [
    {
     "data": {
      "text/html": [
       "<div>\n",
       "<style scoped>\n",
       "    .dataframe tbody tr th:only-of-type {\n",
       "        vertical-align: middle;\n",
       "    }\n",
       "\n",
       "    .dataframe tbody tr th {\n",
       "        vertical-align: top;\n",
       "    }\n",
       "\n",
       "    .dataframe thead th {\n",
       "        text-align: right;\n",
       "    }\n",
       "</style>\n",
       "<table border=\"1\" class=\"dataframe\">\n",
       "  <thead>\n",
       "    <tr style=\"text-align: right;\">\n",
       "      <th></th>\n",
       "      <th>name</th>\n",
       "      <th>mfr</th>\n",
       "      <th>type</th>\n",
       "      <th>calories</th>\n",
       "      <th>protein</th>\n",
       "      <th>fat</th>\n",
       "      <th>sodium</th>\n",
       "      <th>fiber</th>\n",
       "      <th>carbo</th>\n",
       "      <th>sugars</th>\n",
       "      <th>potass</th>\n",
       "      <th>vitamins</th>\n",
       "      <th>shelf</th>\n",
       "      <th>weight</th>\n",
       "      <th>cups</th>\n",
       "      <th>rating</th>\n",
       "    </tr>\n",
       "  </thead>\n",
       "  <tbody>\n",
       "    <tr>\n",
       "      <th>0</th>\n",
       "      <td>100% Bran</td>\n",
       "      <td>N</td>\n",
       "      <td>C</td>\n",
       "      <td>70</td>\n",
       "      <td>4</td>\n",
       "      <td>1</td>\n",
       "      <td>130</td>\n",
       "      <td>10.0</td>\n",
       "      <td>5.0</td>\n",
       "      <td>6</td>\n",
       "      <td>280</td>\n",
       "      <td>25</td>\n",
       "      <td>3</td>\n",
       "      <td>1.0</td>\n",
       "      <td>0.33</td>\n",
       "      <td>68.402973</td>\n",
       "    </tr>\n",
       "    <tr>\n",
       "      <th>1</th>\n",
       "      <td>100% Natural Bran</td>\n",
       "      <td>Q</td>\n",
       "      <td>C</td>\n",
       "      <td>120</td>\n",
       "      <td>3</td>\n",
       "      <td>5</td>\n",
       "      <td>15</td>\n",
       "      <td>2.0</td>\n",
       "      <td>8.0</td>\n",
       "      <td>8</td>\n",
       "      <td>135</td>\n",
       "      <td>0</td>\n",
       "      <td>3</td>\n",
       "      <td>1.0</td>\n",
       "      <td>1.00</td>\n",
       "      <td>33.983679</td>\n",
       "    </tr>\n",
       "    <tr>\n",
       "      <th>2</th>\n",
       "      <td>All-Bran</td>\n",
       "      <td>K</td>\n",
       "      <td>C</td>\n",
       "      <td>70</td>\n",
       "      <td>4</td>\n",
       "      <td>1</td>\n",
       "      <td>260</td>\n",
       "      <td>9.0</td>\n",
       "      <td>7.0</td>\n",
       "      <td>5</td>\n",
       "      <td>320</td>\n",
       "      <td>25</td>\n",
       "      <td>3</td>\n",
       "      <td>1.0</td>\n",
       "      <td>0.33</td>\n",
       "      <td>59.425505</td>\n",
       "    </tr>\n",
       "    <tr>\n",
       "      <th>3</th>\n",
       "      <td>All-Bran with Extra Fiber</td>\n",
       "      <td>K</td>\n",
       "      <td>C</td>\n",
       "      <td>50</td>\n",
       "      <td>4</td>\n",
       "      <td>0</td>\n",
       "      <td>140</td>\n",
       "      <td>14.0</td>\n",
       "      <td>8.0</td>\n",
       "      <td>0</td>\n",
       "      <td>330</td>\n",
       "      <td>25</td>\n",
       "      <td>3</td>\n",
       "      <td>1.0</td>\n",
       "      <td>0.50</td>\n",
       "      <td>93.704912</td>\n",
       "    </tr>\n",
       "    <tr>\n",
       "      <th>4</th>\n",
       "      <td>Almond Delight</td>\n",
       "      <td>R</td>\n",
       "      <td>C</td>\n",
       "      <td>110</td>\n",
       "      <td>2</td>\n",
       "      <td>2</td>\n",
       "      <td>200</td>\n",
       "      <td>1.0</td>\n",
       "      <td>14.0</td>\n",
       "      <td>8</td>\n",
       "      <td>-1</td>\n",
       "      <td>25</td>\n",
       "      <td>3</td>\n",
       "      <td>1.0</td>\n",
       "      <td>0.75</td>\n",
       "      <td>34.384843</td>\n",
       "    </tr>\n",
       "  </tbody>\n",
       "</table>\n",
       "</div>"
      ],
      "text/plain": [
       "                        name mfr type  calories  protein  fat  sodium  fiber  \\\n",
       "0                  100% Bran   N    C        70        4    1     130   10.0   \n",
       "1          100% Natural Bran   Q    C       120        3    5      15    2.0   \n",
       "2                   All-Bran   K    C        70        4    1     260    9.0   \n",
       "3  All-Bran with Extra Fiber   K    C        50        4    0     140   14.0   \n",
       "4             Almond Delight   R    C       110        2    2     200    1.0   \n",
       "\n",
       "   carbo  sugars  potass  vitamins  shelf  weight  cups     rating  \n",
       "0    5.0       6     280        25      3     1.0  0.33  68.402973  \n",
       "1    8.0       8     135         0      3     1.0  1.00  33.983679  \n",
       "2    7.0       5     320        25      3     1.0  0.33  59.425505  \n",
       "3    8.0       0     330        25      3     1.0  0.50  93.704912  \n",
       "4   14.0       8      -1        25      3     1.0  0.75  34.384843  "
      ]
     },
     "execution_count": 2,
     "metadata": {},
     "output_type": "execute_result"
    }
   ],
   "source": [
    "cereals = pd.read_csv(\"cereal.csv\", sep=',')\n",
    "cereals.head()"
   ]
  },
  {
   "cell_type": "markdown",
   "id": "7afe94aa-7dd2-4b52-b2b9-39d4bb626c05",
   "metadata": {},
   "source": [
    "With just two lines, we already have our dataframe. The Cereals dataset contains 16 columns, which I'll quickly outline before we start playing around with the data:\n",
    "\n",
    "- name: The name of the cereal\n",
    "- mfr: The manufacturer of the cereal \n",
    "    - A: American Home Food Products\n",
    "    - G: General Mills\n",
    "    - K: Kelloggs\n",
    "    - N: Nabisco\n",
    "    - P: Post\n",
    "    - Q: Quaker Oats\n",
    "    - R: Ralston Purina\n",
    "- type: Cold vs Hot\n",
    "- calories: Amount of calories per serving\n",
    "- protein: Grams of protein per serving\n",
    "- fat: Grams of fat per serving\n",
    "- sodium: Milligrams of sodium per serving\n",
    "- fiber: Grams of dietary fiber per serving\n",
    "- carbo: Grams of complex carbohydrates per serving\n",
    "- sugars: Grams of sugars per serving\n",
    "- potass: Milligrams of potassium per serving\n",
    "- vitamins: Rough percentage of vitamins and minerals (0%, 25%, 100%)\n",
    "- shelf: Which display shelf the cereal was on when the dataset was being recorded\n",
    "- weight: Weight of a serving in ounces\n",
    "- cups: Serving size in terms of cups\n",
    "- rating: Nutrition rating of each of the cereals"
   ]
  },
  {
   "cell_type": "markdown",
   "id": "6f7b52ef-2a96-499b-8666-7d127b5f389c",
   "metadata": {},
   "source": [
    "# Data Management"
   ]
  },
  {
   "cell_type": "markdown",
   "id": "ddab49c0-25af-4e61-9364-32907dd0fe96",
   "metadata": {},
   "source": [
    "Now that we have our data, we're going to need to modify the dataframe to make sure that we have all of the information we need to start our analysis. This is the Data Management phase, which focuses around reformating our data to present it in a neat way.\n",
    "\n",
    "First, we need to make sure that all of our missing data is either denoted by NaN or null. Those are \"missing data values\" which don't interfere with data analysis.\n",
    "\n",
    "If the person who made this dataset uses something like an integer or string to denote missing data, it could interfere with and mess up our attempts at analyzing our data. Let's take a look at <em>cereals.head()</em> again."
   ]
  },
  {
   "cell_type": "code",
   "execution_count": 3,
   "id": "c4eade59-850a-4296-a2e7-363bd7010d1a",
   "metadata": {},
   "outputs": [
    {
     "data": {
      "text/html": [
       "<div>\n",
       "<style scoped>\n",
       "    .dataframe tbody tr th:only-of-type {\n",
       "        vertical-align: middle;\n",
       "    }\n",
       "\n",
       "    .dataframe tbody tr th {\n",
       "        vertical-align: top;\n",
       "    }\n",
       "\n",
       "    .dataframe thead th {\n",
       "        text-align: right;\n",
       "    }\n",
       "</style>\n",
       "<table border=\"1\" class=\"dataframe\">\n",
       "  <thead>\n",
       "    <tr style=\"text-align: right;\">\n",
       "      <th></th>\n",
       "      <th>name</th>\n",
       "      <th>mfr</th>\n",
       "      <th>type</th>\n",
       "      <th>calories</th>\n",
       "      <th>protein</th>\n",
       "      <th>fat</th>\n",
       "      <th>sodium</th>\n",
       "      <th>fiber</th>\n",
       "      <th>carbo</th>\n",
       "      <th>sugars</th>\n",
       "      <th>potass</th>\n",
       "      <th>vitamins</th>\n",
       "      <th>shelf</th>\n",
       "      <th>weight</th>\n",
       "      <th>cups</th>\n",
       "      <th>rating</th>\n",
       "    </tr>\n",
       "  </thead>\n",
       "  <tbody>\n",
       "    <tr>\n",
       "      <th>0</th>\n",
       "      <td>100% Bran</td>\n",
       "      <td>N</td>\n",
       "      <td>C</td>\n",
       "      <td>70</td>\n",
       "      <td>4</td>\n",
       "      <td>1</td>\n",
       "      <td>130</td>\n",
       "      <td>10.0</td>\n",
       "      <td>5.0</td>\n",
       "      <td>6</td>\n",
       "      <td>280</td>\n",
       "      <td>25</td>\n",
       "      <td>3</td>\n",
       "      <td>1.0</td>\n",
       "      <td>0.33</td>\n",
       "      <td>68.402973</td>\n",
       "    </tr>\n",
       "    <tr>\n",
       "      <th>1</th>\n",
       "      <td>100% Natural Bran</td>\n",
       "      <td>Q</td>\n",
       "      <td>C</td>\n",
       "      <td>120</td>\n",
       "      <td>3</td>\n",
       "      <td>5</td>\n",
       "      <td>15</td>\n",
       "      <td>2.0</td>\n",
       "      <td>8.0</td>\n",
       "      <td>8</td>\n",
       "      <td>135</td>\n",
       "      <td>0</td>\n",
       "      <td>3</td>\n",
       "      <td>1.0</td>\n",
       "      <td>1.00</td>\n",
       "      <td>33.983679</td>\n",
       "    </tr>\n",
       "    <tr>\n",
       "      <th>2</th>\n",
       "      <td>All-Bran</td>\n",
       "      <td>K</td>\n",
       "      <td>C</td>\n",
       "      <td>70</td>\n",
       "      <td>4</td>\n",
       "      <td>1</td>\n",
       "      <td>260</td>\n",
       "      <td>9.0</td>\n",
       "      <td>7.0</td>\n",
       "      <td>5</td>\n",
       "      <td>320</td>\n",
       "      <td>25</td>\n",
       "      <td>3</td>\n",
       "      <td>1.0</td>\n",
       "      <td>0.33</td>\n",
       "      <td>59.425505</td>\n",
       "    </tr>\n",
       "    <tr>\n",
       "      <th>3</th>\n",
       "      <td>All-Bran with Extra Fiber</td>\n",
       "      <td>K</td>\n",
       "      <td>C</td>\n",
       "      <td>50</td>\n",
       "      <td>4</td>\n",
       "      <td>0</td>\n",
       "      <td>140</td>\n",
       "      <td>14.0</td>\n",
       "      <td>8.0</td>\n",
       "      <td>0</td>\n",
       "      <td>330</td>\n",
       "      <td>25</td>\n",
       "      <td>3</td>\n",
       "      <td>1.0</td>\n",
       "      <td>0.50</td>\n",
       "      <td>93.704912</td>\n",
       "    </tr>\n",
       "    <tr>\n",
       "      <th>4</th>\n",
       "      <td>Almond Delight</td>\n",
       "      <td>R</td>\n",
       "      <td>C</td>\n",
       "      <td>110</td>\n",
       "      <td>2</td>\n",
       "      <td>2</td>\n",
       "      <td>200</td>\n",
       "      <td>1.0</td>\n",
       "      <td>14.0</td>\n",
       "      <td>8</td>\n",
       "      <td>-1</td>\n",
       "      <td>25</td>\n",
       "      <td>3</td>\n",
       "      <td>1.0</td>\n",
       "      <td>0.75</td>\n",
       "      <td>34.384843</td>\n",
       "    </tr>\n",
       "  </tbody>\n",
       "</table>\n",
       "</div>"
      ],
      "text/plain": [
       "                        name mfr type  calories  protein  fat  sodium  fiber  \\\n",
       "0                  100% Bran   N    C        70        4    1     130   10.0   \n",
       "1          100% Natural Bran   Q    C       120        3    5      15    2.0   \n",
       "2                   All-Bran   K    C        70        4    1     260    9.0   \n",
       "3  All-Bran with Extra Fiber   K    C        50        4    0     140   14.0   \n",
       "4             Almond Delight   R    C       110        2    2     200    1.0   \n",
       "\n",
       "   carbo  sugars  potass  vitamins  shelf  weight  cups     rating  \n",
       "0    5.0       6     280        25      3     1.0  0.33  68.402973  \n",
       "1    8.0       8     135         0      3     1.0  1.00  33.983679  \n",
       "2    7.0       5     320        25      3     1.0  0.33  59.425505  \n",
       "3    8.0       0     330        25      3     1.0  0.50  93.704912  \n",
       "4   14.0       8      -1        25      3     1.0  0.75  34.384843  "
      ]
     },
     "execution_count": 3,
     "metadata": {},
     "output_type": "execute_result"
    }
   ],
   "source": [
    "cereals.head()"
   ]
  },
  {
   "cell_type": "markdown",
   "id": "1460243c-50a9-48df-af59-e79869b5982e",
   "metadata": {
    "tags": []
   },
   "source": [
    "If you take a look at the potassium column, you'll notice that Almond Delight has a -1 grams of potassium. Obviously that's not possible, which means this indicates that -1 is used to indicate any missing data.\n",
    "\n",
    "Now, we can replace all of the instances of -1 with a missing data value like NaN or null.\n",
    "\n",
    "- dataframe.replace(original, replacement): Replaces every instance of a specific value with another value of your choice."
   ]
  },
  {
   "cell_type": "code",
   "execution_count": 4,
   "id": "8cfd76c2-6e18-4db4-8daf-f1d9fc854e3b",
   "metadata": {},
   "outputs": [
    {
     "data": {
      "text/html": [
       "<div>\n",
       "<style scoped>\n",
       "    .dataframe tbody tr th:only-of-type {\n",
       "        vertical-align: middle;\n",
       "    }\n",
       "\n",
       "    .dataframe tbody tr th {\n",
       "        vertical-align: top;\n",
       "    }\n",
       "\n",
       "    .dataframe thead th {\n",
       "        text-align: right;\n",
       "    }\n",
       "</style>\n",
       "<table border=\"1\" class=\"dataframe\">\n",
       "  <thead>\n",
       "    <tr style=\"text-align: right;\">\n",
       "      <th></th>\n",
       "      <th>name</th>\n",
       "      <th>mfr</th>\n",
       "      <th>type</th>\n",
       "      <th>calories</th>\n",
       "      <th>protein</th>\n",
       "      <th>fat</th>\n",
       "      <th>sodium</th>\n",
       "      <th>fiber</th>\n",
       "      <th>carbo</th>\n",
       "      <th>sugars</th>\n",
       "      <th>potass</th>\n",
       "      <th>vitamins</th>\n",
       "      <th>shelf</th>\n",
       "      <th>weight</th>\n",
       "      <th>cups</th>\n",
       "      <th>rating</th>\n",
       "    </tr>\n",
       "  </thead>\n",
       "  <tbody>\n",
       "    <tr>\n",
       "      <th>0</th>\n",
       "      <td>100% Bran</td>\n",
       "      <td>N</td>\n",
       "      <td>C</td>\n",
       "      <td>70</td>\n",
       "      <td>4</td>\n",
       "      <td>1</td>\n",
       "      <td>130</td>\n",
       "      <td>10.0</td>\n",
       "      <td>5.0</td>\n",
       "      <td>6.0</td>\n",
       "      <td>280.0</td>\n",
       "      <td>25</td>\n",
       "      <td>3</td>\n",
       "      <td>1.0</td>\n",
       "      <td>0.33</td>\n",
       "      <td>68.402973</td>\n",
       "    </tr>\n",
       "    <tr>\n",
       "      <th>1</th>\n",
       "      <td>100% Natural Bran</td>\n",
       "      <td>Q</td>\n",
       "      <td>C</td>\n",
       "      <td>120</td>\n",
       "      <td>3</td>\n",
       "      <td>5</td>\n",
       "      <td>15</td>\n",
       "      <td>2.0</td>\n",
       "      <td>8.0</td>\n",
       "      <td>8.0</td>\n",
       "      <td>135.0</td>\n",
       "      <td>0</td>\n",
       "      <td>3</td>\n",
       "      <td>1.0</td>\n",
       "      <td>1.00</td>\n",
       "      <td>33.983679</td>\n",
       "    </tr>\n",
       "    <tr>\n",
       "      <th>2</th>\n",
       "      <td>All-Bran</td>\n",
       "      <td>K</td>\n",
       "      <td>C</td>\n",
       "      <td>70</td>\n",
       "      <td>4</td>\n",
       "      <td>1</td>\n",
       "      <td>260</td>\n",
       "      <td>9.0</td>\n",
       "      <td>7.0</td>\n",
       "      <td>5.0</td>\n",
       "      <td>320.0</td>\n",
       "      <td>25</td>\n",
       "      <td>3</td>\n",
       "      <td>1.0</td>\n",
       "      <td>0.33</td>\n",
       "      <td>59.425505</td>\n",
       "    </tr>\n",
       "    <tr>\n",
       "      <th>3</th>\n",
       "      <td>All-Bran with Extra Fiber</td>\n",
       "      <td>K</td>\n",
       "      <td>C</td>\n",
       "      <td>50</td>\n",
       "      <td>4</td>\n",
       "      <td>0</td>\n",
       "      <td>140</td>\n",
       "      <td>14.0</td>\n",
       "      <td>8.0</td>\n",
       "      <td>0.0</td>\n",
       "      <td>330.0</td>\n",
       "      <td>25</td>\n",
       "      <td>3</td>\n",
       "      <td>1.0</td>\n",
       "      <td>0.50</td>\n",
       "      <td>93.704912</td>\n",
       "    </tr>\n",
       "    <tr>\n",
       "      <th>4</th>\n",
       "      <td>Almond Delight</td>\n",
       "      <td>R</td>\n",
       "      <td>C</td>\n",
       "      <td>110</td>\n",
       "      <td>2</td>\n",
       "      <td>2</td>\n",
       "      <td>200</td>\n",
       "      <td>1.0</td>\n",
       "      <td>14.0</td>\n",
       "      <td>8.0</td>\n",
       "      <td>NaN</td>\n",
       "      <td>25</td>\n",
       "      <td>3</td>\n",
       "      <td>1.0</td>\n",
       "      <td>0.75</td>\n",
       "      <td>34.384843</td>\n",
       "    </tr>\n",
       "  </tbody>\n",
       "</table>\n",
       "</div>"
      ],
      "text/plain": [
       "                        name mfr type  calories  protein  fat  sodium  fiber  \\\n",
       "0                  100% Bran   N    C        70        4    1     130   10.0   \n",
       "1          100% Natural Bran   Q    C       120        3    5      15    2.0   \n",
       "2                   All-Bran   K    C        70        4    1     260    9.0   \n",
       "3  All-Bran with Extra Fiber   K    C        50        4    0     140   14.0   \n",
       "4             Almond Delight   R    C       110        2    2     200    1.0   \n",
       "\n",
       "   carbo  sugars  potass  vitamins  shelf  weight  cups     rating  \n",
       "0    5.0     6.0   280.0        25      3     1.0  0.33  68.402973  \n",
       "1    8.0     8.0   135.0         0      3     1.0  1.00  33.983679  \n",
       "2    7.0     5.0   320.0        25      3     1.0  0.33  59.425505  \n",
       "3    8.0     0.0   330.0        25      3     1.0  0.50  93.704912  \n",
       "4   14.0     8.0     NaN        25      3     1.0  0.75  34.384843  "
      ]
     },
     "execution_count": 4,
     "metadata": {},
     "output_type": "execute_result"
    }
   ],
   "source": [
    "cereals.replace(-1, np.NaN, inplace=True, regex=True)\n",
    "cereals.head()"
   ]
  },
  {
   "cell_type": "markdown",
   "id": "c6f33d7a-4ed3-4366-a75b-0edd2cdb3d18",
   "metadata": {},
   "source": [
    "As you can see, the -1 in the Almond Delight row has now been replaced with NaN.\n",
    "\n",
    "Next, we should try to figure out what columns we probably aren't going to need, since 16 different columns can be pretty unweildy to deal with. We can delete the ones we don't need, and create new columns if we feel that certain data should be presented in a different manner. Let's start with the columns that we should probably delete. \n",
    "\n",
    "The <em>shelf</em> column is the most obvious instance of this, since the arbitrary placement of cereal on a shelf doesn't have anything to do with how healthy it is. \n",
    "\n",
    "In addition, we can probably remove the <em>type</em> column since there are only three hot cereals out of 77, which just isn't enough to determine if it has any noticeable impact on how nutritious cereal is compared to cold cereal. Similarly, I also wanted to remove <em>weight</em>, since the majority of the cereal have the same exact weight meaning the category won't be all that helpful.\n",
    "\n",
    "Finally, I'm going to remove the <em>vitamins</em> column since it's a bit confusing in what it's trying to say, and either way we won't be using it for our analysis.\n",
    "\n",
    "- dataframe.drop(column_names): Deletes a column or list of columns from the dataframe."
   ]
  },
  {
   "cell_type": "code",
   "execution_count": 5,
   "id": "959bfe58-c760-41aa-bc6f-bccbcaff4385",
   "metadata": {},
   "outputs": [
    {
     "data": {
      "text/html": [
       "<div>\n",
       "<style scoped>\n",
       "    .dataframe tbody tr th:only-of-type {\n",
       "        vertical-align: middle;\n",
       "    }\n",
       "\n",
       "    .dataframe tbody tr th {\n",
       "        vertical-align: top;\n",
       "    }\n",
       "\n",
       "    .dataframe thead th {\n",
       "        text-align: right;\n",
       "    }\n",
       "</style>\n",
       "<table border=\"1\" class=\"dataframe\">\n",
       "  <thead>\n",
       "    <tr style=\"text-align: right;\">\n",
       "      <th></th>\n",
       "      <th>name</th>\n",
       "      <th>mfr</th>\n",
       "      <th>calories</th>\n",
       "      <th>protein</th>\n",
       "      <th>fat</th>\n",
       "      <th>sodium</th>\n",
       "      <th>fiber</th>\n",
       "      <th>carbo</th>\n",
       "      <th>sugars</th>\n",
       "      <th>potass</th>\n",
       "      <th>cups</th>\n",
       "      <th>rating</th>\n",
       "    </tr>\n",
       "  </thead>\n",
       "  <tbody>\n",
       "    <tr>\n",
       "      <th>0</th>\n",
       "      <td>100% Bran</td>\n",
       "      <td>N</td>\n",
       "      <td>70</td>\n",
       "      <td>4</td>\n",
       "      <td>1</td>\n",
       "      <td>130</td>\n",
       "      <td>10.0</td>\n",
       "      <td>5.0</td>\n",
       "      <td>6.0</td>\n",
       "      <td>280.0</td>\n",
       "      <td>0.33</td>\n",
       "      <td>68.402973</td>\n",
       "    </tr>\n",
       "    <tr>\n",
       "      <th>1</th>\n",
       "      <td>100% Natural Bran</td>\n",
       "      <td>Q</td>\n",
       "      <td>120</td>\n",
       "      <td>3</td>\n",
       "      <td>5</td>\n",
       "      <td>15</td>\n",
       "      <td>2.0</td>\n",
       "      <td>8.0</td>\n",
       "      <td>8.0</td>\n",
       "      <td>135.0</td>\n",
       "      <td>1.00</td>\n",
       "      <td>33.983679</td>\n",
       "    </tr>\n",
       "    <tr>\n",
       "      <th>2</th>\n",
       "      <td>All-Bran</td>\n",
       "      <td>K</td>\n",
       "      <td>70</td>\n",
       "      <td>4</td>\n",
       "      <td>1</td>\n",
       "      <td>260</td>\n",
       "      <td>9.0</td>\n",
       "      <td>7.0</td>\n",
       "      <td>5.0</td>\n",
       "      <td>320.0</td>\n",
       "      <td>0.33</td>\n",
       "      <td>59.425505</td>\n",
       "    </tr>\n",
       "    <tr>\n",
       "      <th>3</th>\n",
       "      <td>All-Bran with Extra Fiber</td>\n",
       "      <td>K</td>\n",
       "      <td>50</td>\n",
       "      <td>4</td>\n",
       "      <td>0</td>\n",
       "      <td>140</td>\n",
       "      <td>14.0</td>\n",
       "      <td>8.0</td>\n",
       "      <td>0.0</td>\n",
       "      <td>330.0</td>\n",
       "      <td>0.50</td>\n",
       "      <td>93.704912</td>\n",
       "    </tr>\n",
       "    <tr>\n",
       "      <th>4</th>\n",
       "      <td>Almond Delight</td>\n",
       "      <td>R</td>\n",
       "      <td>110</td>\n",
       "      <td>2</td>\n",
       "      <td>2</td>\n",
       "      <td>200</td>\n",
       "      <td>1.0</td>\n",
       "      <td>14.0</td>\n",
       "      <td>8.0</td>\n",
       "      <td>NaN</td>\n",
       "      <td>0.75</td>\n",
       "      <td>34.384843</td>\n",
       "    </tr>\n",
       "  </tbody>\n",
       "</table>\n",
       "</div>"
      ],
      "text/plain": [
       "                        name mfr  calories  protein  fat  sodium  fiber  \\\n",
       "0                  100% Bran   N        70        4    1     130   10.0   \n",
       "1          100% Natural Bran   Q       120        3    5      15    2.0   \n",
       "2                   All-Bran   K        70        4    1     260    9.0   \n",
       "3  All-Bran with Extra Fiber   K        50        4    0     140   14.0   \n",
       "4             Almond Delight   R       110        2    2     200    1.0   \n",
       "\n",
       "   carbo  sugars  potass  cups     rating  \n",
       "0    5.0     6.0   280.0  0.33  68.402973  \n",
       "1    8.0     8.0   135.0  1.00  33.983679  \n",
       "2    7.0     5.0   320.0  0.33  59.425505  \n",
       "3    8.0     0.0   330.0  0.50  93.704912  \n",
       "4   14.0     8.0     NaN  0.75  34.384843  "
      ]
     },
     "execution_count": 5,
     "metadata": {},
     "output_type": "execute_result"
    }
   ],
   "source": [
    "cereals.drop(['shelf','type', 'weight', 'vitamins'], axis=1, inplace=True)\n",
    "cereals.head()"
   ]
  },
  {
   "cell_type": "markdown",
   "id": "4b317e65-d961-4de4-a0e1-c00e2be53614",
   "metadata": {},
   "source": [
    "In addition, it's probably also helpful to standardize all of the measurements in case you need to do any calculations. Sodium and potassium are the only nutrient columns in milligrams, so let's convert that to grams.\n",
    "\n",
    "- dataframe[column_name].div(number): Divide every entry in a column by a number"
   ]
  },
  {
   "cell_type": "code",
   "execution_count": 6,
   "id": "ccab687d-f1fd-435c-a00d-e6d3566b1cbe",
   "metadata": {},
   "outputs": [
    {
     "data": {
      "text/html": [
       "<div>\n",
       "<style scoped>\n",
       "    .dataframe tbody tr th:only-of-type {\n",
       "        vertical-align: middle;\n",
       "    }\n",
       "\n",
       "    .dataframe tbody tr th {\n",
       "        vertical-align: top;\n",
       "    }\n",
       "\n",
       "    .dataframe thead th {\n",
       "        text-align: right;\n",
       "    }\n",
       "</style>\n",
       "<table border=\"1\" class=\"dataframe\">\n",
       "  <thead>\n",
       "    <tr style=\"text-align: right;\">\n",
       "      <th></th>\n",
       "      <th>name</th>\n",
       "      <th>mfr</th>\n",
       "      <th>calories</th>\n",
       "      <th>protein</th>\n",
       "      <th>fat</th>\n",
       "      <th>sodium</th>\n",
       "      <th>fiber</th>\n",
       "      <th>carbo</th>\n",
       "      <th>sugars</th>\n",
       "      <th>potass</th>\n",
       "      <th>cups</th>\n",
       "      <th>rating</th>\n",
       "    </tr>\n",
       "  </thead>\n",
       "  <tbody>\n",
       "    <tr>\n",
       "      <th>0</th>\n",
       "      <td>100% Bran</td>\n",
       "      <td>N</td>\n",
       "      <td>70</td>\n",
       "      <td>4</td>\n",
       "      <td>1</td>\n",
       "      <td>0.130</td>\n",
       "      <td>10.0</td>\n",
       "      <td>5.0</td>\n",
       "      <td>6.0</td>\n",
       "      <td>0.280</td>\n",
       "      <td>0.33</td>\n",
       "      <td>68.402973</td>\n",
       "    </tr>\n",
       "    <tr>\n",
       "      <th>1</th>\n",
       "      <td>100% Natural Bran</td>\n",
       "      <td>Q</td>\n",
       "      <td>120</td>\n",
       "      <td>3</td>\n",
       "      <td>5</td>\n",
       "      <td>0.015</td>\n",
       "      <td>2.0</td>\n",
       "      <td>8.0</td>\n",
       "      <td>8.0</td>\n",
       "      <td>0.135</td>\n",
       "      <td>1.00</td>\n",
       "      <td>33.983679</td>\n",
       "    </tr>\n",
       "    <tr>\n",
       "      <th>2</th>\n",
       "      <td>All-Bran</td>\n",
       "      <td>K</td>\n",
       "      <td>70</td>\n",
       "      <td>4</td>\n",
       "      <td>1</td>\n",
       "      <td>0.260</td>\n",
       "      <td>9.0</td>\n",
       "      <td>7.0</td>\n",
       "      <td>5.0</td>\n",
       "      <td>0.320</td>\n",
       "      <td>0.33</td>\n",
       "      <td>59.425505</td>\n",
       "    </tr>\n",
       "    <tr>\n",
       "      <th>3</th>\n",
       "      <td>All-Bran with Extra Fiber</td>\n",
       "      <td>K</td>\n",
       "      <td>50</td>\n",
       "      <td>4</td>\n",
       "      <td>0</td>\n",
       "      <td>0.140</td>\n",
       "      <td>14.0</td>\n",
       "      <td>8.0</td>\n",
       "      <td>0.0</td>\n",
       "      <td>0.330</td>\n",
       "      <td>0.50</td>\n",
       "      <td>93.704912</td>\n",
       "    </tr>\n",
       "    <tr>\n",
       "      <th>4</th>\n",
       "      <td>Almond Delight</td>\n",
       "      <td>R</td>\n",
       "      <td>110</td>\n",
       "      <td>2</td>\n",
       "      <td>2</td>\n",
       "      <td>0.200</td>\n",
       "      <td>1.0</td>\n",
       "      <td>14.0</td>\n",
       "      <td>8.0</td>\n",
       "      <td>NaN</td>\n",
       "      <td>0.75</td>\n",
       "      <td>34.384843</td>\n",
       "    </tr>\n",
       "  </tbody>\n",
       "</table>\n",
       "</div>"
      ],
      "text/plain": [
       "                        name mfr  calories  protein  fat  sodium  fiber  \\\n",
       "0                  100% Bran   N        70        4    1   0.130   10.0   \n",
       "1          100% Natural Bran   Q       120        3    5   0.015    2.0   \n",
       "2                   All-Bran   K        70        4    1   0.260    9.0   \n",
       "3  All-Bran with Extra Fiber   K        50        4    0   0.140   14.0   \n",
       "4             Almond Delight   R       110        2    2   0.200    1.0   \n",
       "\n",
       "   carbo  sugars  potass  cups     rating  \n",
       "0    5.0     6.0   0.280  0.33  68.402973  \n",
       "1    8.0     8.0   0.135  1.00  33.983679  \n",
       "2    7.0     5.0   0.320  0.33  59.425505  \n",
       "3    8.0     0.0   0.330  0.50  93.704912  \n",
       "4   14.0     8.0     NaN  0.75  34.384843  "
      ]
     },
     "execution_count": 6,
     "metadata": {},
     "output_type": "execute_result"
    }
   ],
   "source": [
    "cereals['sodium'] = cereals['sodium'].div(1000)\n",
    "cereals['potass'] = cereals['potass'].div(1000)\n",
    "cereals.head()"
   ]
  },
  {
   "cell_type": "markdown",
   "id": "1442988e-8987-4d49-b80d-72cda85d67ef",
   "metadata": {},
   "source": [
    "While looking at the nutrients (the <em>protein</em> through <em>potass</em> columns) individually can be helpful, it may also be helpful to generalize them as \"healthy\" or \"unhealthy\" nutrients. I used the [FDA website](https://www.fda.gov/food/new-nutrition-facts-label/how-understand-and-use-nutrition-facts-label) to help me figure out how to categorize the nutrients.\n",
    "\n",
    "Healthy: Protein, Fiber, Carbohydrates, Potassium <br>\n",
    "Unhealthy: Fat, Sodium, Sugars\n",
    "\n",
    "That's why we converted the sodium and potassium columns into grams, so we can add the healthy and unhealthy nutrient columns together. As you can see in the code below, creating a new column doesn't normally require any new bits of code. However, with the NaN elements in our table, we need to use .fillna() so that NaN functions as 0 when doing addition.\n",
    "\n",
    "- dataframe.fillna(replacement): Fills NaN values with replacement"
   ]
  },
  {
   "cell_type": "code",
   "execution_count": 7,
   "id": "b5bbcc94-a99b-4295-b1ed-62f310cd6f70",
   "metadata": {},
   "outputs": [
    {
     "data": {
      "text/html": [
       "<div>\n",
       "<style scoped>\n",
       "    .dataframe tbody tr th:only-of-type {\n",
       "        vertical-align: middle;\n",
       "    }\n",
       "\n",
       "    .dataframe tbody tr th {\n",
       "        vertical-align: top;\n",
       "    }\n",
       "\n",
       "    .dataframe thead th {\n",
       "        text-align: right;\n",
       "    }\n",
       "</style>\n",
       "<table border=\"1\" class=\"dataframe\">\n",
       "  <thead>\n",
       "    <tr style=\"text-align: right;\">\n",
       "      <th></th>\n",
       "      <th>name</th>\n",
       "      <th>mfr</th>\n",
       "      <th>calories</th>\n",
       "      <th>protein</th>\n",
       "      <th>fat</th>\n",
       "      <th>sodium</th>\n",
       "      <th>fiber</th>\n",
       "      <th>carbo</th>\n",
       "      <th>sugars</th>\n",
       "      <th>potass</th>\n",
       "      <th>cups</th>\n",
       "      <th>rating</th>\n",
       "      <th>pos_nutr</th>\n",
       "      <th>neg_nutr</th>\n",
       "    </tr>\n",
       "  </thead>\n",
       "  <tbody>\n",
       "    <tr>\n",
       "      <th>0</th>\n",
       "      <td>100% Bran</td>\n",
       "      <td>N</td>\n",
       "      <td>70</td>\n",
       "      <td>4</td>\n",
       "      <td>1</td>\n",
       "      <td>0.130</td>\n",
       "      <td>10.0</td>\n",
       "      <td>5.0</td>\n",
       "      <td>6.0</td>\n",
       "      <td>0.280</td>\n",
       "      <td>0.33</td>\n",
       "      <td>68.402973</td>\n",
       "      <td>19.280</td>\n",
       "      <td>7.130</td>\n",
       "    </tr>\n",
       "    <tr>\n",
       "      <th>1</th>\n",
       "      <td>100% Natural Bran</td>\n",
       "      <td>Q</td>\n",
       "      <td>120</td>\n",
       "      <td>3</td>\n",
       "      <td>5</td>\n",
       "      <td>0.015</td>\n",
       "      <td>2.0</td>\n",
       "      <td>8.0</td>\n",
       "      <td>8.0</td>\n",
       "      <td>0.135</td>\n",
       "      <td>1.00</td>\n",
       "      <td>33.983679</td>\n",
       "      <td>13.135</td>\n",
       "      <td>13.015</td>\n",
       "    </tr>\n",
       "    <tr>\n",
       "      <th>2</th>\n",
       "      <td>All-Bran</td>\n",
       "      <td>K</td>\n",
       "      <td>70</td>\n",
       "      <td>4</td>\n",
       "      <td>1</td>\n",
       "      <td>0.260</td>\n",
       "      <td>9.0</td>\n",
       "      <td>7.0</td>\n",
       "      <td>5.0</td>\n",
       "      <td>0.320</td>\n",
       "      <td>0.33</td>\n",
       "      <td>59.425505</td>\n",
       "      <td>20.320</td>\n",
       "      <td>6.260</td>\n",
       "    </tr>\n",
       "    <tr>\n",
       "      <th>3</th>\n",
       "      <td>All-Bran with Extra Fiber</td>\n",
       "      <td>K</td>\n",
       "      <td>50</td>\n",
       "      <td>4</td>\n",
       "      <td>0</td>\n",
       "      <td>0.140</td>\n",
       "      <td>14.0</td>\n",
       "      <td>8.0</td>\n",
       "      <td>0.0</td>\n",
       "      <td>0.330</td>\n",
       "      <td>0.50</td>\n",
       "      <td>93.704912</td>\n",
       "      <td>26.330</td>\n",
       "      <td>0.140</td>\n",
       "    </tr>\n",
       "    <tr>\n",
       "      <th>4</th>\n",
       "      <td>Almond Delight</td>\n",
       "      <td>R</td>\n",
       "      <td>110</td>\n",
       "      <td>2</td>\n",
       "      <td>2</td>\n",
       "      <td>0.200</td>\n",
       "      <td>1.0</td>\n",
       "      <td>14.0</td>\n",
       "      <td>8.0</td>\n",
       "      <td>NaN</td>\n",
       "      <td>0.75</td>\n",
       "      <td>34.384843</td>\n",
       "      <td>17.000</td>\n",
       "      <td>10.200</td>\n",
       "    </tr>\n",
       "  </tbody>\n",
       "</table>\n",
       "</div>"
      ],
      "text/plain": [
       "                        name mfr  calories  protein  fat  sodium  fiber  \\\n",
       "0                  100% Bran   N        70        4    1   0.130   10.0   \n",
       "1          100% Natural Bran   Q       120        3    5   0.015    2.0   \n",
       "2                   All-Bran   K        70        4    1   0.260    9.0   \n",
       "3  All-Bran with Extra Fiber   K        50        4    0   0.140   14.0   \n",
       "4             Almond Delight   R       110        2    2   0.200    1.0   \n",
       "\n",
       "   carbo  sugars  potass  cups     rating  pos_nutr  neg_nutr  \n",
       "0    5.0     6.0   0.280  0.33  68.402973    19.280     7.130  \n",
       "1    8.0     8.0   0.135  1.00  33.983679    13.135    13.015  \n",
       "2    7.0     5.0   0.320  0.33  59.425505    20.320     6.260  \n",
       "3    8.0     0.0   0.330  0.50  93.704912    26.330     0.140  \n",
       "4   14.0     8.0     NaN  0.75  34.384843    17.000    10.200  "
      ]
     },
     "execution_count": 7,
     "metadata": {},
     "output_type": "execute_result"
    }
   ],
   "source": [
    "cereals['pos_nutr'] = cereals.fillna(0)['protein'] + cereals.fillna(0)['fiber'] + cereals.fillna(0)['carbo'] + cereals.fillna(0)['potass']\n",
    "cereals['neg_nutr'] = cereals.fillna(0)['fat'] + cereals.fillna(0)['sodium'] + cereals.fillna(0)['sugars']\n",
    "cereals.head()"
   ]
  },
  {
   "cell_type": "markdown",
   "id": "9097ac9d-80a3-4b2e-b7b2-870c9db157b1",
   "metadata": {},
   "source": [
    "You may notice that our positive and negative nutrient columns are at the end of the table, which isn't ideal. So finally, before we actually start our analysis, let's sort the table a bit so that it's easier to read.\n",
    "\n",
    "Sorting columns is also pretty simple, not requiring any new terms we don't already know."
   ]
  },
  {
   "cell_type": "code",
   "execution_count": 8,
   "id": "b0e4a261-79db-4e3f-8fbf-2b0debcc3bda",
   "metadata": {},
   "outputs": [
    {
     "data": {
      "text/html": [
       "<div>\n",
       "<style scoped>\n",
       "    .dataframe tbody tr th:only-of-type {\n",
       "        vertical-align: middle;\n",
       "    }\n",
       "\n",
       "    .dataframe tbody tr th {\n",
       "        vertical-align: top;\n",
       "    }\n",
       "\n",
       "    .dataframe thead th {\n",
       "        text-align: right;\n",
       "    }\n",
       "</style>\n",
       "<table border=\"1\" class=\"dataframe\">\n",
       "  <thead>\n",
       "    <tr style=\"text-align: right;\">\n",
       "      <th></th>\n",
       "      <th>name</th>\n",
       "      <th>mfr</th>\n",
       "      <th>cups</th>\n",
       "      <th>calories</th>\n",
       "      <th>protein</th>\n",
       "      <th>fiber</th>\n",
       "      <th>carbo</th>\n",
       "      <th>potass</th>\n",
       "      <th>pos_nutr</th>\n",
       "      <th>fat</th>\n",
       "      <th>sodium</th>\n",
       "      <th>sugars</th>\n",
       "      <th>neg_nutr</th>\n",
       "      <th>rating</th>\n",
       "    </tr>\n",
       "  </thead>\n",
       "  <tbody>\n",
       "    <tr>\n",
       "      <th>0</th>\n",
       "      <td>100% Bran</td>\n",
       "      <td>N</td>\n",
       "      <td>0.33</td>\n",
       "      <td>70</td>\n",
       "      <td>4</td>\n",
       "      <td>10.0</td>\n",
       "      <td>5.0</td>\n",
       "      <td>0.280</td>\n",
       "      <td>19.280</td>\n",
       "      <td>1</td>\n",
       "      <td>0.130</td>\n",
       "      <td>6.0</td>\n",
       "      <td>7.130</td>\n",
       "      <td>68.402973</td>\n",
       "    </tr>\n",
       "    <tr>\n",
       "      <th>1</th>\n",
       "      <td>100% Natural Bran</td>\n",
       "      <td>Q</td>\n",
       "      <td>1.00</td>\n",
       "      <td>120</td>\n",
       "      <td>3</td>\n",
       "      <td>2.0</td>\n",
       "      <td>8.0</td>\n",
       "      <td>0.135</td>\n",
       "      <td>13.135</td>\n",
       "      <td>5</td>\n",
       "      <td>0.015</td>\n",
       "      <td>8.0</td>\n",
       "      <td>13.015</td>\n",
       "      <td>33.983679</td>\n",
       "    </tr>\n",
       "    <tr>\n",
       "      <th>2</th>\n",
       "      <td>All-Bran</td>\n",
       "      <td>K</td>\n",
       "      <td>0.33</td>\n",
       "      <td>70</td>\n",
       "      <td>4</td>\n",
       "      <td>9.0</td>\n",
       "      <td>7.0</td>\n",
       "      <td>0.320</td>\n",
       "      <td>20.320</td>\n",
       "      <td>1</td>\n",
       "      <td>0.260</td>\n",
       "      <td>5.0</td>\n",
       "      <td>6.260</td>\n",
       "      <td>59.425505</td>\n",
       "    </tr>\n",
       "    <tr>\n",
       "      <th>3</th>\n",
       "      <td>All-Bran with Extra Fiber</td>\n",
       "      <td>K</td>\n",
       "      <td>0.50</td>\n",
       "      <td>50</td>\n",
       "      <td>4</td>\n",
       "      <td>14.0</td>\n",
       "      <td>8.0</td>\n",
       "      <td>0.330</td>\n",
       "      <td>26.330</td>\n",
       "      <td>0</td>\n",
       "      <td>0.140</td>\n",
       "      <td>0.0</td>\n",
       "      <td>0.140</td>\n",
       "      <td>93.704912</td>\n",
       "    </tr>\n",
       "    <tr>\n",
       "      <th>4</th>\n",
       "      <td>Almond Delight</td>\n",
       "      <td>R</td>\n",
       "      <td>0.75</td>\n",
       "      <td>110</td>\n",
       "      <td>2</td>\n",
       "      <td>1.0</td>\n",
       "      <td>14.0</td>\n",
       "      <td>NaN</td>\n",
       "      <td>17.000</td>\n",
       "      <td>2</td>\n",
       "      <td>0.200</td>\n",
       "      <td>8.0</td>\n",
       "      <td>10.200</td>\n",
       "      <td>34.384843</td>\n",
       "    </tr>\n",
       "  </tbody>\n",
       "</table>\n",
       "</div>"
      ],
      "text/plain": [
       "                        name mfr  cups  calories  protein  fiber  carbo  \\\n",
       "0                  100% Bran   N  0.33        70        4   10.0    5.0   \n",
       "1          100% Natural Bran   Q  1.00       120        3    2.0    8.0   \n",
       "2                   All-Bran   K  0.33        70        4    9.0    7.0   \n",
       "3  All-Bran with Extra Fiber   K  0.50        50        4   14.0    8.0   \n",
       "4             Almond Delight   R  0.75       110        2    1.0   14.0   \n",
       "\n",
       "   potass  pos_nutr  fat  sodium  sugars  neg_nutr     rating  \n",
       "0   0.280    19.280    1   0.130     6.0     7.130  68.402973  \n",
       "1   0.135    13.135    5   0.015     8.0    13.015  33.983679  \n",
       "2   0.320    20.320    1   0.260     5.0     6.260  59.425505  \n",
       "3   0.330    26.330    0   0.140     0.0     0.140  93.704912  \n",
       "4     NaN    17.000    2   0.200     8.0    10.200  34.384843  "
      ]
     },
     "execution_count": 8,
     "metadata": {},
     "output_type": "execute_result"
    }
   ],
   "source": [
    "cereals = cereals[['name', 'mfr', 'cups', 'calories', 'protein', 'fiber', 'carbo', 'potass', 'pos_nutr', 'fat', 'sodium', 'sugars', 'neg_nutr', 'rating']]\n",
    "cereals.head()"
   ]
  },
  {
   "cell_type": "markdown",
   "id": "178bb7a6-1eef-4d89-ace4-d5ab5fa15b1e",
   "metadata": {},
   "source": [
    "# Exploratory Data Analysis"
   ]
  },
  {
   "cell_type": "markdown",
   "id": "25b3e0bc-b4eb-49ad-b1df-e6f8d3f9d911",
   "metadata": {},
   "source": [
    "In the introduction, I brought up some of the questions that we want to answer using data analysis:\n",
    "\n",
    "- Which cereals are the most and least nutritious?\n",
    "- How nutritious is cereal on average?\n",
    "- Which companies have the best track record with cereal?\n",
    "\n",
    "In the Exploratory Data Analysis phase, we finally start trying to answer these questions using our dataset. More specifically, this is where we start to plot our data.\n",
    "\n",
    "Let's start with the first two since those are the simplest to figure out. You can figure out which cereals are the most and least nutritious by finding the minimum and maximum nutrition rating. For starters, you can get the max and min nutrition ratings by using <em>.max()</em> and <em>.min()</em>.\n",
    "\n",
    "- dataframe.max(): Gets the maximum value in a column, or even the entire dataframe if necessary\n",
    "- dataframe.max(): Gets the minimum value in a column, or even the entire dataframe if necessary"
   ]
  },
  {
   "cell_type": "code",
   "execution_count": 9,
   "id": "92d9e5da-79e4-4b75-8cf7-7ae18620b641",
   "metadata": {},
   "outputs": [
    {
     "name": "stdout",
     "output_type": "stream",
     "text": [
      "93.704912\n"
     ]
    }
   ],
   "source": [
    "print(cereals['rating'].max())"
   ]
  },
  {
   "cell_type": "code",
   "execution_count": 10,
   "id": "c434afc0-c7dd-4b96-9580-da56b7f76259",
   "metadata": {},
   "outputs": [
    {
     "name": "stdout",
     "output_type": "stream",
     "text": [
      "18.042851\n"
     ]
    }
   ],
   "source": [
    "print(cereals['rating'].min())"
   ]
  },
  {
   "cell_type": "markdown",
   "id": "be0074b4-1de2-4aec-94b7-3e1cfcca7836",
   "metadata": {},
   "source": [
    "While we now know the maximum and minimum nutrition ratings, we don't know which cereals they correspond to. So let's instead sort the dataframe by nutrition rating, ascending and descending, to get the full picture.\n",
    "\n",
    "- dataframe.sort_values(by=column, ascending=True/False): Sorts a dataframe by a column, either ascending or descending. You can even use it to sort by multiple columns."
   ]
  },
  {
   "cell_type": "code",
   "execution_count": 11,
   "id": "6a37f88d-fa0a-48af-9462-b0c1fa392896",
   "metadata": {},
   "outputs": [
    {
     "data": {
      "text/html": [
       "<div>\n",
       "<style scoped>\n",
       "    .dataframe tbody tr th:only-of-type {\n",
       "        vertical-align: middle;\n",
       "    }\n",
       "\n",
       "    .dataframe tbody tr th {\n",
       "        vertical-align: top;\n",
       "    }\n",
       "\n",
       "    .dataframe thead th {\n",
       "        text-align: right;\n",
       "    }\n",
       "</style>\n",
       "<table border=\"1\" class=\"dataframe\">\n",
       "  <thead>\n",
       "    <tr style=\"text-align: right;\">\n",
       "      <th></th>\n",
       "      <th>name</th>\n",
       "      <th>mfr</th>\n",
       "      <th>cups</th>\n",
       "      <th>calories</th>\n",
       "      <th>protein</th>\n",
       "      <th>fiber</th>\n",
       "      <th>carbo</th>\n",
       "      <th>potass</th>\n",
       "      <th>pos_nutr</th>\n",
       "      <th>fat</th>\n",
       "      <th>sodium</th>\n",
       "      <th>sugars</th>\n",
       "      <th>neg_nutr</th>\n",
       "      <th>rating</th>\n",
       "    </tr>\n",
       "  </thead>\n",
       "  <tbody>\n",
       "    <tr>\n",
       "      <th>3</th>\n",
       "      <td>All-Bran with Extra Fiber</td>\n",
       "      <td>K</td>\n",
       "      <td>0.50</td>\n",
       "      <td>50</td>\n",
       "      <td>4</td>\n",
       "      <td>14.0</td>\n",
       "      <td>8.0</td>\n",
       "      <td>0.330</td>\n",
       "      <td>26.330</td>\n",
       "      <td>0</td>\n",
       "      <td>0.14</td>\n",
       "      <td>0.0</td>\n",
       "      <td>0.14</td>\n",
       "      <td>93.704912</td>\n",
       "    </tr>\n",
       "    <tr>\n",
       "      <th>64</th>\n",
       "      <td>Shredded Wheat 'n'Bran</td>\n",
       "      <td>N</td>\n",
       "      <td>0.67</td>\n",
       "      <td>90</td>\n",
       "      <td>3</td>\n",
       "      <td>4.0</td>\n",
       "      <td>19.0</td>\n",
       "      <td>0.140</td>\n",
       "      <td>26.140</td>\n",
       "      <td>0</td>\n",
       "      <td>0.00</td>\n",
       "      <td>0.0</td>\n",
       "      <td>0.00</td>\n",
       "      <td>74.472949</td>\n",
       "    </tr>\n",
       "    <tr>\n",
       "      <th>65</th>\n",
       "      <td>Shredded Wheat spoon size</td>\n",
       "      <td>N</td>\n",
       "      <td>0.67</td>\n",
       "      <td>90</td>\n",
       "      <td>3</td>\n",
       "      <td>3.0</td>\n",
       "      <td>20.0</td>\n",
       "      <td>0.120</td>\n",
       "      <td>26.120</td>\n",
       "      <td>0</td>\n",
       "      <td>0.00</td>\n",
       "      <td>0.0</td>\n",
       "      <td>0.00</td>\n",
       "      <td>72.801787</td>\n",
       "    </tr>\n",
       "    <tr>\n",
       "      <th>0</th>\n",
       "      <td>100% Bran</td>\n",
       "      <td>N</td>\n",
       "      <td>0.33</td>\n",
       "      <td>70</td>\n",
       "      <td>4</td>\n",
       "      <td>10.0</td>\n",
       "      <td>5.0</td>\n",
       "      <td>0.280</td>\n",
       "      <td>19.280</td>\n",
       "      <td>1</td>\n",
       "      <td>0.13</td>\n",
       "      <td>6.0</td>\n",
       "      <td>7.13</td>\n",
       "      <td>68.402973</td>\n",
       "    </tr>\n",
       "    <tr>\n",
       "      <th>63</th>\n",
       "      <td>Shredded Wheat</td>\n",
       "      <td>N</td>\n",
       "      <td>1.00</td>\n",
       "      <td>80</td>\n",
       "      <td>2</td>\n",
       "      <td>3.0</td>\n",
       "      <td>16.0</td>\n",
       "      <td>0.095</td>\n",
       "      <td>21.095</td>\n",
       "      <td>0</td>\n",
       "      <td>0.00</td>\n",
       "      <td>0.0</td>\n",
       "      <td>0.00</td>\n",
       "      <td>68.235885</td>\n",
       "    </tr>\n",
       "  </tbody>\n",
       "</table>\n",
       "</div>"
      ],
      "text/plain": [
       "                         name mfr  cups  calories  protein  fiber  carbo  \\\n",
       "3   All-Bran with Extra Fiber   K  0.50        50        4   14.0    8.0   \n",
       "64     Shredded Wheat 'n'Bran   N  0.67        90        3    4.0   19.0   \n",
       "65  Shredded Wheat spoon size   N  0.67        90        3    3.0   20.0   \n",
       "0                   100% Bran   N  0.33        70        4   10.0    5.0   \n",
       "63             Shredded Wheat   N  1.00        80        2    3.0   16.0   \n",
       "\n",
       "    potass  pos_nutr  fat  sodium  sugars  neg_nutr     rating  \n",
       "3    0.330    26.330    0    0.14     0.0      0.14  93.704912  \n",
       "64   0.140    26.140    0    0.00     0.0      0.00  74.472949  \n",
       "65   0.120    26.120    0    0.00     0.0      0.00  72.801787  \n",
       "0    0.280    19.280    1    0.13     6.0      7.13  68.402973  \n",
       "63   0.095    21.095    0    0.00     0.0      0.00  68.235885  "
      ]
     },
     "execution_count": 11,
     "metadata": {},
     "output_type": "execute_result"
    }
   ],
   "source": [
    "max_nutrition = cereals.sort_values(by=['rating'], ascending=False)\n",
    "max_nutrition.head()"
   ]
  },
  {
   "cell_type": "code",
   "execution_count": 12,
   "id": "6212cd2d-1a72-426b-adf7-815724937e94",
   "metadata": {},
   "outputs": [
    {
     "data": {
      "text/html": [
       "<div>\n",
       "<style scoped>\n",
       "    .dataframe tbody tr th:only-of-type {\n",
       "        vertical-align: middle;\n",
       "    }\n",
       "\n",
       "    .dataframe tbody tr th {\n",
       "        vertical-align: top;\n",
       "    }\n",
       "\n",
       "    .dataframe thead th {\n",
       "        text-align: right;\n",
       "    }\n",
       "</style>\n",
       "<table border=\"1\" class=\"dataframe\">\n",
       "  <thead>\n",
       "    <tr style=\"text-align: right;\">\n",
       "      <th></th>\n",
       "      <th>name</th>\n",
       "      <th>mfr</th>\n",
       "      <th>cups</th>\n",
       "      <th>calories</th>\n",
       "      <th>protein</th>\n",
       "      <th>fiber</th>\n",
       "      <th>carbo</th>\n",
       "      <th>potass</th>\n",
       "      <th>pos_nutr</th>\n",
       "      <th>fat</th>\n",
       "      <th>sodium</th>\n",
       "      <th>sugars</th>\n",
       "      <th>neg_nutr</th>\n",
       "      <th>rating</th>\n",
       "    </tr>\n",
       "  </thead>\n",
       "  <tbody>\n",
       "    <tr>\n",
       "      <th>10</th>\n",
       "      <td>Cap'n'Crunch</td>\n",
       "      <td>Q</td>\n",
       "      <td>0.75</td>\n",
       "      <td>120</td>\n",
       "      <td>1</td>\n",
       "      <td>0.0</td>\n",
       "      <td>12.0</td>\n",
       "      <td>0.035</td>\n",
       "      <td>13.035</td>\n",
       "      <td>2</td>\n",
       "      <td>0.22</td>\n",
       "      <td>12.0</td>\n",
       "      <td>14.22</td>\n",
       "      <td>18.042851</td>\n",
       "    </tr>\n",
       "    <tr>\n",
       "      <th>12</th>\n",
       "      <td>Cinnamon Toast Crunch</td>\n",
       "      <td>G</td>\n",
       "      <td>0.75</td>\n",
       "      <td>120</td>\n",
       "      <td>1</td>\n",
       "      <td>0.0</td>\n",
       "      <td>13.0</td>\n",
       "      <td>0.045</td>\n",
       "      <td>14.045</td>\n",
       "      <td>3</td>\n",
       "      <td>0.21</td>\n",
       "      <td>9.0</td>\n",
       "      <td>12.21</td>\n",
       "      <td>19.823573</td>\n",
       "    </tr>\n",
       "    <tr>\n",
       "      <th>35</th>\n",
       "      <td>Honey Graham Ohs</td>\n",
       "      <td>Q</td>\n",
       "      <td>1.00</td>\n",
       "      <td>120</td>\n",
       "      <td>1</td>\n",
       "      <td>1.0</td>\n",
       "      <td>12.0</td>\n",
       "      <td>0.045</td>\n",
       "      <td>14.045</td>\n",
       "      <td>2</td>\n",
       "      <td>0.22</td>\n",
       "      <td>11.0</td>\n",
       "      <td>13.22</td>\n",
       "      <td>21.871292</td>\n",
       "    </tr>\n",
       "    <tr>\n",
       "      <th>18</th>\n",
       "      <td>Count Chocula</td>\n",
       "      <td>G</td>\n",
       "      <td>1.00</td>\n",
       "      <td>110</td>\n",
       "      <td>1</td>\n",
       "      <td>0.0</td>\n",
       "      <td>12.0</td>\n",
       "      <td>0.065</td>\n",
       "      <td>13.065</td>\n",
       "      <td>1</td>\n",
       "      <td>0.18</td>\n",
       "      <td>13.0</td>\n",
       "      <td>14.18</td>\n",
       "      <td>22.396513</td>\n",
       "    </tr>\n",
       "    <tr>\n",
       "      <th>14</th>\n",
       "      <td>Cocoa Puffs</td>\n",
       "      <td>G</td>\n",
       "      <td>1.00</td>\n",
       "      <td>110</td>\n",
       "      <td>1</td>\n",
       "      <td>0.0</td>\n",
       "      <td>12.0</td>\n",
       "      <td>0.055</td>\n",
       "      <td>13.055</td>\n",
       "      <td>1</td>\n",
       "      <td>0.18</td>\n",
       "      <td>13.0</td>\n",
       "      <td>14.18</td>\n",
       "      <td>22.736446</td>\n",
       "    </tr>\n",
       "  </tbody>\n",
       "</table>\n",
       "</div>"
      ],
      "text/plain": [
       "                     name mfr  cups  calories  protein  fiber  carbo  potass  \\\n",
       "10           Cap'n'Crunch   Q  0.75       120        1    0.0   12.0   0.035   \n",
       "12  Cinnamon Toast Crunch   G  0.75       120        1    0.0   13.0   0.045   \n",
       "35       Honey Graham Ohs   Q  1.00       120        1    1.0   12.0   0.045   \n",
       "18          Count Chocula   G  1.00       110        1    0.0   12.0   0.065   \n",
       "14            Cocoa Puffs   G  1.00       110        1    0.0   12.0   0.055   \n",
       "\n",
       "    pos_nutr  fat  sodium  sugars  neg_nutr     rating  \n",
       "10    13.035    2    0.22    12.0     14.22  18.042851  \n",
       "12    14.045    3    0.21     9.0     12.21  19.823573  \n",
       "35    14.045    2    0.22    11.0     13.22  21.871292  \n",
       "18    13.065    1    0.18    13.0     14.18  22.396513  \n",
       "14    13.055    1    0.18    13.0     14.18  22.736446  "
      ]
     },
     "execution_count": 12,
     "metadata": {},
     "output_type": "execute_result"
    }
   ],
   "source": [
    "min_nutrition = cereals.sort_values(by=['rating'], ascending=True)\n",
    "min_nutrition.head()"
   ]
  },
  {
   "cell_type": "markdown",
   "id": "8b64a745-68b9-4cb2-9c43-deb0636314fa",
   "metadata": {},
   "source": [
    "Here we are, now we know that the healthiest cereal seems to be All-Bran With Extra Fiber, and the least healthiest cereal seems to be Cap'n'Crunch. \n",
    "\n",
    "You can also tell that the healthier cereals seem to have low amounts of calories, large amounts of the positive nutrients, and low amounts of the negative nutrients. Similarly, the unhealthy cereals have lots of calories, large amounts of negative nutrients (especially sugars), and not as many positive nutrients."
   ]
  },
  {
   "cell_type": "markdown",
   "id": "98f55dd2-eee7-46ab-9ed7-64c8b715d8b3",
   "metadata": {},
   "source": [
    "Next, let's try to figure out what the average nutritional rating is. This can be easily calculated using <em>.mean()</em>.\n",
    "\n",
    "- dataframe.mean(): Calculates the average of the elements of a dataframe or its columns."
   ]
  },
  {
   "cell_type": "code",
   "execution_count": 13,
   "id": "505c2a1c-ed5f-4ffc-8b9f-5a780cde0049",
   "metadata": {},
   "outputs": [
    {
     "name": "stdout",
     "output_type": "stream",
     "text": [
      "42.66570498701299\n"
     ]
    }
   ],
   "source": [
    "print(cereals['rating'].mean())"
   ]
  },
  {
   "cell_type": "markdown",
   "id": "24aa0578-f120-4eb0-b07e-548f949dedb8",
   "metadata": {},
   "source": [
    "That's not a very good sign. If the best nutritional rating in the dataset is a 93 and the worst is an 18, this average seems to indicate that the nutritional ratings are skewed towards the unhealthy side. But let's try to prove that using a graph.\n",
    "\n",
    "To figure out the distribution of nutritional ratings, the ideal type of graph would probably be a violin plot, which shows off both the mean and full distribution of a dataset. We'd just need a simple horizontal violin plot for our purposes right now, so let's make one using seaborn.\n",
    "\n",
    "- seaborn.set_theme: Set the theme of your graph\n",
    "- seaborn.violinplot(axes): Makes a violin plot"
   ]
  },
  {
   "cell_type": "code",
   "execution_count": 37,
   "id": "f530f49e-a9db-4f4e-94fa-cc4def65bc7c",
   "metadata": {},
   "outputs": [
    {
     "data": {
      "image/png": "[encoded data removed]",
      "text/plain": [
       "<Figure size 432x288 with 1 Axes>"
      ]
     },
     "metadata": {},
     "output_type": "display_data"
    }
   ],
   "source": [
    "sns.set_theme(style=\"whitegrid\")\n",
    "ax = sns.violinplot(x=cereals[\"rating\"])"
   ]
  },
  {
   "cell_type": "markdown",
   "id": "f17e0474-1b94-4a97-9321-044afb978e5c",
   "metadata": {},
   "source": [
    "This violin plot pretty much confirms it, the majority of the cereal in our dataset has nutritional ratings under 50, which is pretty concerning."
   ]
  },
  {
   "cell_type": "markdown",
   "id": "cd5bd252-fe3d-4a01-97fa-e3a3924562af",
   "metadata": {},
   "source": [
    "Next, let's try to figure out which manufacturers tend to have the healthiest cereals, and which ones don't. Let's start simple by only getting the averages of the nutritional ratings of each manufacturer's cereals. We can do this by reusing <em>.mean()</em> but adding a condition to check if the rating is from a certain manufacturer.\n",
    "\n",
    "- dataframe.loc[]: Access a group of rows or columns based on a condition"
   ]
  },
  {
   "cell_type": "code",
   "execution_count": 15,
   "id": "30148860-7e4d-44f1-9e2e-061e5127d000",
   "metadata": {},
   "outputs": [
    {
     "name": "stdout",
     "output_type": "stream",
     "text": [
      "American Home Food Products:\n",
      "54.850917\n"
     ]
    }
   ],
   "source": [
    "print(\"American Home Food Products:\") \n",
    "print(cereals['rating'].loc[cereals['mfr'] == 'A'].mean())"
   ]
  },
  {
   "cell_type": "code",
   "execution_count": 16,
   "id": "2efc7de8-bc95-4c43-9046-6cde8ac52645",
   "metadata": {},
   "outputs": [
    {
     "name": "stdout",
     "output_type": "stream",
     "text": [
      "General Mills:\n",
      "34.48585168181818\n"
     ]
    }
   ],
   "source": [
    "print(\"General Mills:\") \n",
    "print(cereals['rating'].loc[cereals['mfr'] == 'G'].mean())"
   ]
  },
  {
   "cell_type": "code",
   "execution_count": 17,
   "id": "4c120596-1b2e-4445-8080-6f06451e01ca",
   "metadata": {},
   "outputs": [
    {
     "name": "stdout",
     "output_type": "stream",
     "text": [
      "Kelloggs:\n",
      "44.03846234782609\n"
     ]
    }
   ],
   "source": [
    "print(\"Kelloggs:\") \n",
    "print(cereals['rating'].loc[cereals['mfr'] == 'K'].mean())"
   ]
  },
  {
   "cell_type": "code",
   "execution_count": 18,
   "id": "ced0981d-d065-46b8-ac9f-b4089e1a3a99",
   "metadata": {},
   "outputs": [
    {
     "name": "stdout",
     "output_type": "stream",
     "text": [
      "Nabisco:\n",
      "67.96856716666666\n"
     ]
    }
   ],
   "source": [
    "print(\"Nabisco:\") \n",
    "print(cereals['rating'].loc[cereals['mfr'] == 'N'].mean())"
   ]
  },
  {
   "cell_type": "code",
   "execution_count": 19,
   "id": "af44cd0d-4f17-4bf9-97a8-e58fe732f9cf",
   "metadata": {},
   "outputs": [
    {
     "name": "stdout",
     "output_type": "stream",
     "text": [
      "Post:\n",
      "41.70574411111111\n"
     ]
    }
   ],
   "source": [
    "print(\"Post:\") \n",
    "print(cereals['rating'].loc[cereals['mfr'] == 'P'].mean())"
   ]
  },
  {
   "cell_type": "code",
   "execution_count": 20,
   "id": "11d7d450-9087-4a91-9008-5ba6e170deaa",
   "metadata": {},
   "outputs": [
    {
     "name": "stdout",
     "output_type": "stream",
     "text": [
      "Quaker Oats:\n",
      "42.915989875\n"
     ]
    }
   ],
   "source": [
    "print(\"Quaker Oats:\") \n",
    "print(cereals['rating'].loc[cereals['mfr'] == 'Q'].mean())"
   ]
  },
  {
   "cell_type": "code",
   "execution_count": 21,
   "id": "47394a4d-779b-437c-add1-af2722ea7094",
   "metadata": {},
   "outputs": [
    {
     "name": "stdout",
     "output_type": "stream",
     "text": [
      "Ralston Purina:\n",
      "41.542997125\n"
     ]
    }
   ],
   "source": [
    "print(\"Ralston Purina:\") \n",
    "print(cereals['rating'].loc[cereals['mfr'] == 'R'].mean())"
   ]
  },
  {
   "cell_type": "markdown",
   "id": "29efb187-841d-4adf-b176-4b3ebf6996ab",
   "metadata": {},
   "source": [
    "Looking at these averages, you can see that the manufacturer with the healthiest cereals seems to be Nabisco, with American Home Food Products in a distant second. On the other hand, General Mills seems to have the least healthy cereals, and many of the manufacturers seem to hover somewhere around the average nutritional rating.\n",
    "\n",
    "But we can get more information than that! Now let's try to make seven violin plots, one for each manufacturer, to get their full spread like we did with the overall average. Instead of using seaborn, let's try to make this violin plot using matplotlib. It's probably going to be our most complicated code to date, but it's worth learning so that you can graph any plot you'd like using matplotlib.\n",
    "\n",
    "The first code you usually write when making a matplotlib graph is <em>fig, ax = plt.subplots()</em>. This creates a figure for your graph and a set of subplots. After this, you can essentially create any type of plot you want using your subplots. If you want to make a violinplot, you type in <em>ax.violinplot(axes)</em>, which works with one or two axes. You can then add in labels and titles, and save your figure as a png image.\n",
    "\n",
    "It's also worth noting that you need lists to create a plot, so I created a list and implemented a for-loop that divides the dataframe up into seven lists separated by manufacturer and adds them to the larger list\n",
    "\n",
    "That's a lot of new information, so here's a list of all of the code you'll need to know right now:\n",
    "- plt.subplots(): Creates a figure and a set of subplots\n",
    "- axes.violinplot(axes): Makes a violin plot\n",
    "- axes.set_xlabel(label_name): Gives the x-axis a label\n",
    "- axes.set_ylabel(label_name): Gives the y-axis a label\n",
    "- axes.set_title(title_name): Gives the graph a title\n",
    "- axes.set_xticks(): Sets the x-axis of the violin plot\n",
    "- axes.set_yticks(): Sets the y-axis of the violin plot\n",
    "- axes.set_xticklabels(label_name): Modifies the labels of the ticks on the x-axis\n",
    "- axes.set_yticklabels(label_name): Modifies the labels of the ticks on the y-axis\n",
    "- pyplot.savefig(figure_name): Saves the figure as an image\n",
    "- list.append(): Adds an element to a list"
   ]
  },
  {
   "cell_type": "code",
   "execution_count": 44,
   "id": "3ad47d5f-f07b-42ec-b907-41d817b288e0",
   "metadata": {},
   "outputs": [
    {
     "data": {
      "image/png": "[encoded data removed]",
      "text/plain": [
       "<Figure size 432x288 with 1 Axes>"
      ]
     },
     "metadata": {},
     "output_type": "display_data"
    }
   ],
   "source": [
    "fig, ax = plt.subplots()\n",
    "\n",
    "manufacturers = ['A', 'G', 'K', 'N', 'P', 'Q', 'R']\n",
    "mfr_int = [0, 1, 2, 3, 4, 5, 6]\n",
    "\n",
    "# This essentially turns the ratings list into a list of seven lists of ratings separated by manufacturer\n",
    "ratings_per_mfr = []\n",
    "for mfr in manufacturers:\n",
    "    mfr_frame = cereals[cereals['mfr'] == mfr]\n",
    "    ratings_per_mfr.append(mfr_frame['rating'])\n",
    "\n",
    "ax.violinplot(ratings_per_mfr,mfr_int,widths=1,showmeans=True,vert=True)\n",
    "ax.set_xlabel(\"Manufacturers\")\n",
    "ax.set_ylabel(\"Ratings\")\n",
    "ax.set_title(\"Nutritional Ratings By Manufacturer\")\n",
    "ax.set_xticks(mfr_int)\n",
    "ax.set_xticklabels(manufacturers)\n",
    "fig.savefig(\"violin2.png\")"
   ]
  },
  {
   "cell_type": "markdown",
   "id": "50b1db80-99e6-468f-ac9f-9b5f9a9c3149",
   "metadata": {},
   "source": [
    "This reveals a few interesting discoveries that you couldn't tell from just the averages. For starters, it seems there is only one cereal from American Home Food Products on the datable, meaning its high average isn't an indication of how good its food is. On the other hand, Nabisco has plenty of cereals on the dataset and managed to consistently get great nutritional ratings. \n",
    "\n",
    "In addition, and probably most strikingly of all, Kelloggs seemed to have a single cereal (All-Bran With Extra Fiber) with a super high nutritional rating, but otherwise performed pretty average.\n",
    "\n",
    "Through this data analysis, we've figured out that cereals tend to be unhealthy a lot of the time, unless Nabisco is making them. We've also noticed that the amount of calories and types of nutrients in the cereal seemed to have an impact on the nutrition rating, but what would that impact be? And how can we use that information to predict what would lead to the ideal cereal?"
   ]
  },
  {
   "cell_type": "markdown",
   "id": "f9f424c3-6ef4-4c86-9e3e-d5b8063967ce",
   "metadata": {},
   "source": [
    "# Hypothesis Testing"
   ]
  },
  {
   "cell_type": "markdown",
   "id": "046c007e-5917-4ab9-a285-6b74ba44aec6",
   "metadata": {},
   "source": [
    "Let's compare the nutritional rating with some different factors on the dataset and see how they affect it. I think it's worth comparing the nutritional rating with:\n",
    "- Calories\n",
    "- Cups\n",
    "- Positive Nutrients\n",
    "- Negative Nutrients\n",
    "\n",
    "We can start with calories. Since this time, we'll be comparing two numbered columns, I think scatterplots will be useful this time around. While we can make a scatterplot with matplotlib, an even easier method would just simply be to use pandas for it.\n",
    "\n",
    "However, it's also helpful that we add in a linear regression line. These are models that can not only concretely show us the trend of each of the scatterplots, but they can also serve as a method to predict what the nutritional rating would be outside the scope of our figures.\n",
    "\n",
    "Making a linear regression line is slightly more complicated than just a scatterplot on its own, using a combination of numpy and matplotlib.\n",
    "\n",
    "- dataframe.plot.scatter(): Creates a scatter plot of two columns of your dataframe.\n",
    "- numpy.array(): Turns a column into an array\n",
    "- numpy.polyfit(): Returns a slope and y-intercept for a potential linear regression line based on your plot\n",
    "- matplotlib.plot(): Simply plots a line"
   ]
  },
  {
   "cell_type": "code",
   "execution_count": 55,
   "id": "f36d52dd-c7be-4ed1-94a5-f5fd8b6c01a2",
   "metadata": {},
   "outputs": [
    {
     "data": {
      "text/plain": [
       "[<matplotlib.lines.Line2D at 0xffff445604c0>]"
      ]
     },
     "execution_count": 55,
     "metadata": {},
     "output_type": "execute_result"
    },
    {
     "data": {
      "image/png": "[encoded data removed]",
      "text/plain": [
       "<Figure size 432x288 with 1 Axes>"
      ]
     },
     "metadata": {},
     "output_type": "display_data"
    }
   ],
   "source": [
    "cereals.plot.scatter(x='calories', y='rating', title=\"Nutritional rating based on calories\", c=\"b\")\n",
    "\n",
    "x = np.array(cereals['calories'])\n",
    "y = np.array(cereals['rating'])\n",
    "\n",
    "m, b = np.polyfit(x, y, 1)\n",
    "plt.plot(x, m*x + b, color=\"red\")"
   ]
  },
  {
   "cell_type": "markdown",
   "id": "62005799-ec79-4f91-9348-60a2df452542",
   "metadata": {},
   "source": [
    "As you can see with this scatterplot, the nutritional rating tends to decrease as calories increase. This falls in line with our observation earlier on in the analysis and suggests that cereal is healthier if it has less calories.\n",
    "\n",
    "Now let's do the same thing but with the cups column. The only thing we're really changing going to be the columns we make the scatterplot with."
   ]
  },
  {
   "cell_type": "code",
   "execution_count": 56,
   "id": "f90575b7-e336-4554-ac8a-0052f9971ab2",
   "metadata": {},
   "outputs": [
    {
     "data": {
      "text/plain": [
       "[<matplotlib.lines.Line2D at 0xffff44c20f10>]"
      ]
     },
     "execution_count": 56,
     "metadata": {},
     "output_type": "execute_result"
    },
    {
     "data": {
      "image/png": "[encoded data removed]",
      "text/plain": [
       "<Figure size 432x288 with 1 Axes>"
      ]
     },
     "metadata": {},
     "output_type": "display_data"
    }
   ],
   "source": [
    "cereals.plot.scatter(x='cups', y='rating', title=\"Nutritional rating based on cups\", c=\"b\")\n",
    "\n",
    "x = np.array(cereals['cups'])\n",
    "y = np.array(cereals['rating'])\n",
    "\n",
    "m, b = np.polyfit(x, y, 1)\n",
    "plt.plot(x, m*x + b, color=\"red\")"
   ]
  },
  {
   "cell_type": "markdown",
   "id": "1fdf1a95-9b27-4ef1-a643-cfcc846daade",
   "metadata": {},
   "source": [
    "While the linear regression line looks like it skews downward, I actually think it might be affected by the 93 nutrition rating outlier, which happens to have a serving size of 0.5 cups. Outside of that, I really don't think the serving size in terms of cups makes much of a difference in how healthy cereal is, especially compared to the scatter plot for calories.\n",
    "\n",
    "Now let's try with the positive and negative nutrients instead."
   ]
  },
  {
   "cell_type": "code",
   "execution_count": 57,
   "id": "f86e9990-0198-49a9-b7da-bf13f16bbb73",
   "metadata": {},
   "outputs": [
    {
     "data": {
      "text/plain": [
       "[<matplotlib.lines.Line2D at 0xffff443b2460>]"
      ]
     },
     "execution_count": 57,
     "metadata": {},
     "output_type": "execute_result"
    },
    {
     "data": {
      "image/png": "[encoded data removed]",
      "text/plain": [
       "<Figure size 432x288 with 1 Axes>"
      ]
     },
     "metadata": {},
     "output_type": "display_data"
    },
    {
     "data": {
      "image/png": "[encoded data removed]",
      "text/plain": [
       "<Figure size 432x288 with 1 Axes>"
      ]
     },
     "metadata": {},
     "output_type": "display_data"
    }
   ],
   "source": [
    "cereals.plot.scatter(x='pos_nutr', y='rating', title=\"Nutritional rating based on positive nutrients\", c=\"b\")\n",
    "\n",
    "x = np.array(cereals['pos_nutr'])\n",
    "y = np.array(cereals['rating'])\n",
    "\n",
    "m, b = np.polyfit(x, y, 1)\n",
    "plt.plot(x, m*x + b, color=\"red\")\n",
    "\n",
    "cereals.plot.scatter(x='neg_nutr', y='rating', title=\"Nutritional rating based on negative nutrients\", c=\"b\")\n",
    "\n",
    "x = np.array(cereals['neg_nutr'])\n",
    "y = np.array(cereals['rating'])\n",
    "\n",
    "m, b = np.polyfit(x, y, 1)\n",
    "plt.plot(x, m*x + b, color=\"red\")"
   ]
  },
  {
   "cell_type": "markdown",
   "id": "492dd233-8172-4ca4-8e48-ff1e8087a4e4",
   "metadata": {},
   "source": [
    "And it's just as we observed at the start of the analysis. Healthy nutrients such as fiber and carbohydrates seem to have a positive impact on the nutrition rating of cereal, and unhealthy nutrients like fat and sugars seem to have a negative impact on the nutrition rating of cereal.\n",
    "\n",
    "But let's look a bit deeper. Let's try to figure out which of each type of nutrient has the biggest impacts on the nutrition rating. We'll simply make scatter plots for each of the individual nutrients to see which ones look like they have a greater impact on how healthy or unhealthy a cereal is.\n",
    "\n",
    "However, you need to remember that these nutrient charts have NaN values, and you can't make a linear regression line using NaN values. As a result, you have to use <em>.isfinite()</em> to make sure you only make the linear regression line with finite values.\n",
    "\n",
    "- numpy.isfinite(array): Tests each element in an array to see if it's finite."
   ]
  },
  {
   "cell_type": "code",
   "execution_count": 70,
   "id": "bf4cf4b6-ca70-4f79-90bd-d00904522164",
   "metadata": {},
   "outputs": [
    {
     "data": {
      "text/plain": [
       "[<matplotlib.lines.Line2D at 0xffff43194f40>]"
      ]
     },
     "execution_count": 70,
     "metadata": {},
     "output_type": "execute_result"
    },
    {
     "data": {
      "image/png": "[encoded data removed]",
      "text/plain": [
       "<Figure size 432x288 with 1 Axes>"
      ]
     },
     "metadata": {},
     "output_type": "display_data"
    },
    {
     "data": {
      "image/png": "[encoded data removed]",
      "text/plain": [
       "<Figure size 432x288 with 1 Axes>"
      ]
     },
     "metadata": {},
     "output_type": "display_data"
    },
    {
     "data": {
      "image/png": "[encoded data removed]",
      "text/plain": [
       "<Figure size 432x288 with 1 Axes>"
      ]
     },
     "metadata": {},
     "output_type": "display_data"
    },
    {
     "data": {
      "image/png": "[encoded data removed]",
      "text/plain": [
       "<Figure size 432x288 with 1 Axes>"
      ]
     },
     "metadata": {},
     "output_type": "display_data"
    }
   ],
   "source": [
    "cereals.plot.scatter(x='protein', y='rating', title=\"Nutritional rating based on protein\", c=\"b\")\n",
    "\n",
    "x = np.array(cereals['protein'])\n",
    "y = np.array(cereals['rating'])\n",
    "\n",
    "idx = np.isfinite(x) & np.isfinite(y)\n",
    "m, b = np.polyfit(x[idx], y[idx], 1)\n",
    "plt.plot(x, m*x + b, color=\"red\")\n",
    "\n",
    "cereals.plot.scatter(x='carbo', y='rating', title=\"Nutritional rating based on carbohydrates\", c=\"b\")\n",
    "\n",
    "x = np.array(cereals['carbo'])\n",
    "y = np.array(cereals['rating'])\n",
    "\n",
    "idx = np.isfinite(x) & np.isfinite(y)\n",
    "m, b = np.polyfit(x[idx], y[idx], 1)\n",
    "plt.plot(x, m*x + b, color=\"red\")\n",
    "\n",
    "cereals.plot.scatter(x='fiber', y='rating', title=\"Nutritional rating based on fiber\", c=\"b\")\n",
    "\n",
    "x = np.array(cereals['fiber'])\n",
    "y = np.array(cereals['rating'])\n",
    "\n",
    "idx = np.isfinite(x) & np.isfinite(y)\n",
    "m, b = np.polyfit(x[idx], y[idx], 1)\n",
    "plt.plot(x, m*x + b, color=\"red\")\n",
    "\n",
    "cereals.plot.scatter(x='potass', y='rating', title=\"Nutritional rating based on potassium\", c=\"b\")\n",
    "\n",
    "x = np.array(cereals['potass'])\n",
    "y = np.array(cereals['rating'])\n",
    "\n",
    "idx = np.isfinite(x) & np.isfinite(y)\n",
    "m, b = np.polyfit(x[idx], y[idx], 1)\n",
    "plt.plot(x, m*x + b, color=\"red\")"
   ]
  },
  {
   "cell_type": "markdown",
   "id": "306796c9-0a94-460a-a882-1716762e101a",
   "metadata": {},
   "source": [
    "Looking at these scatterplots, it seems that potassium and fiber seem to have the largest and most noticeable impact. While the majority of cereal seem to have pretty low amounts of both, whenever there is a large amount of fiber and/or potassium, it usually leads to a higher than average nutrition rating. In particular, that 93 nutrition rating has the highest amounts of both fiber and potassium. \n",
    "\n",
    "However, these linear regression lines seem to have the steepest slopes for fiber and protein. The least steep slope is for carbohydrates, so it's fair to assume that it doesn't make as much of an impact as the other positive nutrients.\n",
    "\n",
    "Now, let's do the same thing but for the negative nutrients."
   ]
  },
  {
   "cell_type": "code",
   "execution_count": 72,
   "id": "b8b55de8-2449-40a4-8ff8-0b4adfae3bfc",
   "metadata": {},
   "outputs": [
    {
     "data": {
      "text/plain": [
       "[<matplotlib.lines.Line2D at 0xffff42efa7c0>]"
      ]
     },
     "execution_count": 72,
     "metadata": {},
     "output_type": "execute_result"
    },
    {
     "data": {
      "image/png": "[encoded data removed]",
      "text/plain": [
       "<Figure size 432x288 with 1 Axes>"
      ]
     },
     "metadata": {},
     "output_type": "display_data"
    },
    {
     "data": {
      "image/png": "[encoded data removed]",
      "text/plain": [
       "<Figure size 432x288 with 1 Axes>"
      ]
     },
     "metadata": {},
     "output_type": "display_data"
    },
    {
     "data": {
      "image/png": "[encoded data removed]",
      "text/plain": [
       "<Figure size 432x288 with 1 Axes>"
      ]
     },
     "metadata": {},
     "output_type": "display_data"
    }
   ],
   "source": [
    "cereals.plot.scatter(x='sugars', y='rating', title=\"Nutritional rating based on sugars\", c=\"b\")\n",
    "\n",
    "x = np.array(cereals['sugars'])\n",
    "y = np.array(cereals['rating'])\n",
    "\n",
    "idx = np.isfinite(x) & np.isfinite(y)\n",
    "m, b = np.polyfit(x[idx], y[idx], 1)\n",
    "plt.plot(x, m*x + b, color=\"red\")\n",
    "\n",
    "cereals.plot.scatter(x='fat', y='rating', title=\"Nutritional rating based on fat\", c=\"b\")\n",
    "\n",
    "x = np.array(cereals['fat'])\n",
    "y = np.array(cereals['rating'])\n",
    "\n",
    "idx = np.isfinite(x) & np.isfinite(y)\n",
    "m, b = np.polyfit(x[idx], y[idx], 1)\n",
    "plt.plot(x, m*x + b, color=\"red\")\n",
    "\n",
    "cereals.plot.scatter(x='sodium', y='rating', title=\"Nutritional rating based on sodium\", c=\"b\")\n",
    "\n",
    "x = np.array(cereals['sodium'])\n",
    "y = np.array(cereals['rating'])\n",
    "\n",
    "idx = np.isfinite(x) & np.isfinite(y)\n",
    "m, b = np.polyfit(x[idx], y[idx], 1)\n",
    "plt.plot(x, m*x + b, color=\"red\")"
   ]
  },
  {
   "cell_type": "markdown",
   "id": "94f08ac4-c144-41d8-b52f-645723459d8c",
   "metadata": {},
   "source": [
    "These scatter plots seem to suggest that sugars have the highest impact on how unhealthy food is, it looks there's an incredibly dramatic decrease in nutrition rating as sugars increase. Fat doesn't have as noticeable of a drop, but it is worth pointing out that the cereal with the highest nutrition is when fat is at a minimum. Finally, sodium's plot doesn't look as flat as the one for carbohydrates, but it probably makes the least impact out of the three."
   ]
  },
  {
   "cell_type": "markdown",
   "id": "6f552523-a6bc-42f4-a3e2-13ecf0ca8f48",
   "metadata": {},
   "source": [
    "Now that we know how each individual factor has an impact on the nutrition rating, let's try to figure out the best possible nutrition rating we can get.\n",
    "\n",
    "Let's start by taking the linear regression line we found for calories and extend it, as far as it can go. We can do this by expanding the bounds of our graph using <em>.xlim()</em> and <em>.ylim()</em>, and by turning our line segment of a linear regression line into a never-ending line using <em>.axline()</em>.\n",
    "\n",
    "- matplotlib.xlim(): Set the bounds of the x-axis\n",
    "- matplotlib.ylim(): Set the bounds of the y-axis\n",
    "- axes.axline(): Generates a line"
   ]
  },
  {
   "cell_type": "code",
   "execution_count": 84,
   "id": "7eea49e2-2eee-43aa-b3af-18c5ee5b217f",
   "metadata": {},
   "outputs": [
    {
     "data": {
      "text/plain": [
       "<matplotlib.lines._AxLine at 0xffff44fadf40>"
      ]
     },
     "execution_count": 84,
     "metadata": {},
     "output_type": "execute_result"
    },
    {
     "data": {
      "image/png": "[encoded data removed]",
      "text/plain": [
       "<Figure size 432x288 with 1 Axes>"
      ]
     },
     "metadata": {},
     "output_type": "display_data"
    }
   ],
   "source": [
    "fig, ax = plt.subplots()\n",
    "plt.xlim([0, 200])\n",
    "plt.ylim([0, 100])\n",
    "\n",
    "x = np.array(cereals['calories'])\n",
    "y = np.array(cereals['rating'])\n",
    "\n",
    "m, b = np.polyfit(x, y, 1)\n",
    "ax.axline(xy1=(0, b), slope=m, color=\"red\")"
   ]
  },
  {
   "cell_type": "markdown",
   "id": "e4704f9f-d772-4bdd-a05e-5576cf58f042",
   "metadata": {},
   "source": [
    "Looking at this graph, you can see that a cereal with 0 calories could have a nutritional rating of nearly 100. While I'm not entirely sure that's possible, if a cereal has less than 30 calories, it can still end up with an incredibly high nutritional rating.\n",
    "\n",
    "Now, let's try this with all of the positive nutrients. To keep things simple, I put all of the lines in the same plot and added a legend.\n",
    "\n",
    "- axes.legend(): Add a legend to your plot"
   ]
  },
  {
   "cell_type": "code",
   "execution_count": 89,
   "id": "9dee8c30-7d9e-4db4-b815-551acd572ce6",
   "metadata": {},
   "outputs": [
    {
     "data": {
      "text/plain": [
       "<matplotlib.legend.Legend at 0xffff428ccb20>"
      ]
     },
     "execution_count": 89,
     "metadata": {},
     "output_type": "execute_result"
    },
    {
     "data": {
      "image/png": "[encoded data removed]",
      "text/plain": [
       "<Figure size 432x288 with 1 Axes>"
      ]
     },
     "metadata": {},
     "output_type": "display_data"
    }
   ],
   "source": [
    "fig, ax = plt.subplots()\n",
    "plt.xlim([0, 22.5])\n",
    "plt.ylim([0, 100])\n",
    "\n",
    "x = np.array(cereals['protein'])\n",
    "y = np.array(cereals['rating'])\n",
    "\n",
    "idx = np.isfinite(x) & np.isfinite(y)\n",
    "m, b = np.polyfit(x[idx], y[idx], 1)\n",
    "l1 = ax.axline(xy1=(0, b), slope=m, color=\"red\")\n",
    "\n",
    "x = np.array(cereals['carbo'])\n",
    "y = np.array(cereals['rating'])\n",
    "\n",
    "idx = np.isfinite(x) & np.isfinite(y)\n",
    "m, b = np.polyfit(x[idx], y[idx], 1)\n",
    "l2 = ax.axline(xy1=(0, b), slope=m, color=\"blue\")\n",
    "\n",
    "x = np.array(cereals['fiber'])\n",
    "y = np.array(cereals['rating'])\n",
    "\n",
    "idx = np.isfinite(x) & np.isfinite(y)\n",
    "m, b = np.polyfit(x[idx], y[idx], 1)\n",
    "l3 = ax.axline(xy1=(0, b), slope=m, color=\"green\")\n",
    "\n",
    "x = np.array(cereals['potass'])\n",
    "y = np.array(cereals['rating'])\n",
    "\n",
    "idx = np.isfinite(x) & np.isfinite(y)\n",
    "m, b = np.polyfit(x[idx], y[idx], 1)\n",
    "l4 = ax.axline(xy1=(0, b), slope=m, color=\"purple\")\n",
    "ax.legend([l1, l2, l3, l4], ['protein', 'carbo', 'fiber', 'potass'])"
   ]
  },
  {
   "cell_type": "markdown",
   "id": "be062e05-6369-4e1d-a976-d0e38ec663cc",
   "metadata": {},
   "source": [
    "The first thing I noticed from this graph is the fact that carbohydrates really doesn't make much of an impact at all, especially compared to the other three. It seems that the optimal amount of protein, carbohydrates, and potassium would be around 12 grams, 18.5 grams, and 1000 milligrams respectively.\n",
    "\n",
    "Now, let's do the negative nutrients."
   ]
  },
  {
   "cell_type": "code",
   "execution_count": 91,
   "id": "6f7ebf32-5c35-4011-9498-3bbbe1c50a6c",
   "metadata": {},
   "outputs": [
    {
     "data": {
      "text/plain": [
       "<matplotlib.legend.Legend at 0xffff428baa90>"
      ]
     },
     "execution_count": 91,
     "metadata": {},
     "output_type": "execute_result"
    },
    {
     "data": {
      "image/png": "[encoded data removed]",
      "text/plain": [
       "<Figure size 432x288 with 1 Axes>"
      ]
     },
     "metadata": {},
     "output_type": "display_data"
    }
   ],
   "source": [
    "fig, ax = plt.subplots()\n",
    "plt.xlim([0, 22.5])\n",
    "plt.ylim([0, 100])\n",
    "\n",
    "x = np.array(cereals['sugars'])\n",
    "y = np.array(cereals['rating'])\n",
    "\n",
    "idx = np.isfinite(x) & np.isfinite(y)\n",
    "m, b = np.polyfit(x[idx], y[idx], 1)\n",
    "l1 = ax.axline(xy1=(0, b), slope=m, color=\"red\")\n",
    "\n",
    "x = np.array(cereals['fat'])\n",
    "y = np.array(cereals['rating'])\n",
    "\n",
    "idx = np.isfinite(x) & np.isfinite(y)\n",
    "m, b = np.polyfit(x[idx], y[idx], 1)\n",
    "l2 = ax.axline(xy1=(0, b), slope=m, color=\"green\")\n",
    "\n",
    "x = np.array(cereals['sodium'])\n",
    "y = np.array(cereals['rating'])\n",
    "\n",
    "idx = np.isfinite(x) & np.isfinite(y)\n",
    "m, b = np.polyfit(x[idx], y[idx], 1)\n",
    "l3 = ax.axline(xy1=(0, b), slope=m, color=\"blue\")\n",
    "ax.legend([l1, l2, l3], ['sugars', 'fat', 'sodium'])"
   ]
  },
  {
   "cell_type": "markdown",
   "id": "18bb452c-f9eb-4c97-8d1a-ad2079171836",
   "metadata": {},
   "source": [
    "This graph is a lot easier to analyze. 0 grams of sugars, fats, and sodium all seem to get the best nutritional rating, so the ideal cereal wouldn't include any of it. "
   ]
  },
  {
   "cell_type": "markdown",
   "id": "e364cced-e80d-48e7-8a37-758ab5fbe6d9",
   "metadata": {},
   "source": [
    "# Insights And Conclusion"
   ]
  },
  {
   "cell_type": "markdown",
   "id": "81205e3b-cc1b-44c4-aaa9-57106d4db3cc",
   "metadata": {},
   "source": [
    "So, now that we have all of this information, let's try to figure out what the ideal cereal would be. The Insights And Conclusions phase is about reporting what we've learned and drawing conclusions using inferences.\n",
    "\n",
    "An ideal cereal would have no sugars, fats, or sodium whatsoever. It would have as little calories as possible, ideally 30 or less. It would have at least 12 grams of protein, at least 18.5 grams of carbohydrates, and at least 1000 milligrams of potassium. And we should probably have Nabisco work on it, for good measure.\n",
    "\n",
    "Do I think this cereal would actually taste good? Who knows? But if All-Bran With Extra Fiber, with its nutrition rating of 93, is any indication, this type of ideal cereal is very much possible! We just need more of it."
   ]
  },
  {
   "cell_type": "markdown",
   "id": "361c0d54-b54a-4265-a875-26dfa6e62f4c",
   "metadata": {},
   "source": [
    "Breakfast is always referred to as the healthiest and most important meal of the day, with cereal being a cornerstone of the meal. So through association, I always thought that cereal was really healthy as well. So analyzing this data made me realize it's not as healthy as many seem to claim a lot of the time, primarily due to a combination of lots of calories, little fiber, and a lot of processed sugars.\n",
    "\n",
    "But this could only be the beginning of a much larger analysis. There are way more cereals out there than just the 80 we analyzed, and quite possibly a bunch of manufacturers that focus on and strive to produce much healthier cereals than usual. This tutorial is just a taste of how much you can learn using data science, not just about cereals but about any topic. Being able to really immerse yourself in the specifics, analyze the data on your own, and coming to your own conclusions can be a great way to educate yourself as well as uncover information to help you solve problems."
   ]
  }
 ],
 "metadata": {
  "kernelspec": {
   "display_name": "Python 3 (ipykernel)",
   "language": "python",
   "name": "python3"
  },
  "language_info": {
   "codemirror_mode": {
    "name": "ipython",
    "version": 3
   },
   "file_extension": ".py",
   "mimetype": "text/x-python",
   "name": "python",
   "nbconvert_exporter": "python",
   "pygments_lexer": "ipython3",
   "version": "3.9.7"
  }
 },
 "nbformat": 4,
 "nbformat_minor": 5
}
